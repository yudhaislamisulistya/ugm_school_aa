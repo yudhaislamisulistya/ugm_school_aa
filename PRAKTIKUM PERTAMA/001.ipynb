{
 "cells": [
  {
   "cell_type": "code",
   "execution_count": 219,
   "metadata": {},
   "outputs": [],
   "source": [
    "import time\n",
    "import matplotlib.pyplot as plt\n",
    "import psutil\n",
    "from numpy.random import default_rng"
   ]
  },
  {
   "cell_type": "markdown",
   "metadata": {},
   "source": [
    "## SPEC TESTING (HARDWARE)\n",
    "- PROCESSOR : M1 APPLE\n",
    "- RAM : 8GB\n",
    "- SSD : 256 APFS SETTING\n",
    "\n",
    "## SOFTWARE\n",
    "- PYTHON 3.8.8 (PYTHON NOTEBOOK)\n",
    "- VSCODE"
   ]
  },
  {
   "cell_type": "markdown",
   "metadata": {},
   "source": [
    "# 1. Brute Force Sorting"
   ]
  },
  {
   "cell_type": "code",
   "execution_count": 220,
   "metadata": {},
   "outputs": [
    {
     "name": "stdout",
     "output_type": "stream",
     "text": [
      "Waktu Eksekusi Brute Force : 0.012375116348266602\n",
      "Waktu Eksekusi Brute Force : 0.07844686508178711\n",
      "Waktu Eksekusi Brute Force : 8.227160692214966\n",
      "Waktu Eksekusi Brute Force : 739.9380521774292\n"
     ]
    }
   ],
   "source": [
    "def test(n):\n",
    "    start_time = time.time()\n",
    "    def brute_force_sorting(L):\n",
    "        for i in range(len(L)-1):\n",
    "            min_index = i\n",
    "            for j in range(i+1, len(L)-1):\n",
    "                if L[j] < L[min_index]:\n",
    "                    min_index = j\n",
    "    rng = default_rng()\n",
    "    L = rng.choice(n, size=n, replace=False)\n",
    "    brute_force_sorting(L)\n",
    "    time_execution = time.time() - start_time\n",
    "    print(f'Waktu Eksekusi Brute Force : {time_execution}')\n",
    "    return time_execution\n",
    "data_100 = test(100)\n",
    "data_1000 = test(1000)\n",
    "data_10000 = test(10000)\n",
    "data_100000 = test(100000)"
   ]
  },
  {
   "cell_type": "markdown",
   "metadata": {},
   "source": [
    "### 1.1 Grafik Perbandingan Time Execution"
   ]
  },
  {
   "cell_type": "code",
   "execution_count": 221,
   "metadata": {},
   "outputs": [
    {
     "data": {
      "image/png": "[encoded data removed]",
      "text/plain": [
       "<Figure size 720x432 with 1 Axes>"
      ]
     },
     "metadata": {
      "needs_background": "light"
     },
     "output_type": "display_data"
    }
   ],
   "source": [
    "x = [\"100\", \"1000\", \"10000\", \"100000\"]\n",
    "y = [data_100, data_1000, data_10000, data_100000]\n",
    "\n",
    "fig = plt.figure(figsize=(10,6))\n",
    "ax = fig.add_subplot(111)\n",
    "plt.plot(x,y, 'bo', linestyle = 'dashed')\n",
    "plt.xlabel('Jumlah Data')\n",
    "plt.ylabel('Time Execution (Seconds)')\n",
    "plt.title('Perbandingan Time Execution Terhadap Data yang Berbeda')\n",
    "for i, v in enumerate(y):\n",
    "        ax.annotate(str(v), xy=(i,v), xytext=(-7,7), fontsize=12, textcoords='offset points')\n",
    "plt.show()"
   ]
  },
  {
   "cell_type": "markdown",
   "metadata": {},
   "source": [
    "# 2. Perbandingan Diperlukan\n",
    "- n/2(n+1)"
   ]
  },
  {
   "cell_type": "code",
   "execution_count": 222,
   "metadata": {},
   "outputs": [
    {
     "name": "stdout",
     "output_type": "stream",
     "text": [
      "Jumlah Perbandingan Yang Diperlukan : 49995000.0\n"
     ]
    }
   ],
   "source": [
    "print(f'Jumlah Perbandingan Yang Diperlukan : {((len(L)-1)/2)*((len(L)-1)+1)}')"
   ]
  },
  {
   "cell_type": "markdown",
   "metadata": {},
   "source": [
    "# 3. Sorting\n",
    "![Alt Text](https://i.imgur.com/fq0A8hx.gif)"
   ]
  },
  {
   "cell_type": "code",
   "execution_count": 223,
   "metadata": {},
   "outputs": [
    {
     "name": "stdout",
     "output_type": "stream",
     "text": [
      "Waktu Eksekusi Insertion Sort : 0.0033233165740966797\n",
      "Waktu Eksekusi Insertion Sort : 0.0002968311309814453\n",
      "Waktu Eksekusi Insertion Sort : 0.0015721321105957031\n",
      "Waktu Eksekusi Insertion Sort : 0.012639999389648438\n"
     ]
    }
   ],
   "source": [
    "# Insertion Sort\n",
    "def test(n):\n",
    "    start_time = time.time()\n",
    "    def insertion_sort(InputList):\n",
    "        for i in range(1, len(InputList)):\n",
    "            j = i-1\n",
    "            nxt_element = InputList[i]\n",
    "        while (InputList[j] > nxt_element) and (j >= 0):\n",
    "            InputList[j+1] = InputList[j]\n",
    "            j=j-1\n",
    "        InputList[j+1] = nxt_element\n",
    "    rng = default_rng()\n",
    "    L = rng.choice(n, size=n, replace=False)\n",
    "    insertion_sort(L)\n",
    "    time_execution = time.time() - start_time\n",
    "    print(f'Waktu Eksekusi Insertion Sort : {time_execution}')\n",
    "    return time_execution\n",
    "i_s_data_100 = test(100)\n",
    "i_s_data_1000 = test(1000)\n",
    "i_s_data_10000 = test(10000)\n",
    "i_s_data_100000 = test(100000)"
   ]
  },
  {
   "cell_type": "code",
   "execution_count": 224,
   "metadata": {},
   "outputs": [
    {
     "name": "stdout",
     "output_type": "stream",
     "text": [
      "Waktu Eksekusi Selection Sort : 0.0013859272003173828\n",
      "Waktu Eksekusi Selection Sort : 0.08029007911682129\n",
      "Waktu Eksekusi Selection Sort : 7.474075794219971\n",
      "Waktu Eksekusi Selection Sort : 768.946347951889\n"
     ]
    }
   ],
   "source": [
    "# Selection Sort\n",
    "def test(n):\n",
    "    start_time = time.time()\n",
    "    def selection_sort(input_list):\n",
    "        for idx in range(len(input_list)):\n",
    "            min_idx = idx\n",
    "            for j in range( idx +1, len(input_list)):\n",
    "                if input_list[min_idx] > input_list[j]:\n",
    "                    min_idx = j\n",
    "        input_list[idx], input_list[min_idx] = input_list[min_idx], input_list[idx]\n",
    "    rng = default_rng()\n",
    "    L = rng.choice(n, size=n, replace=False)\n",
    "    selection_sort(L)\n",
    "    time_execution = time.time() - start_time\n",
    "    print(f'Waktu Eksekusi Selection Sort : {time_execution}')\n",
    "    return time_execution\n",
    "s_s_data_100 = test(100)\n",
    "s_s_data_1000 = test(1000)\n",
    "s_s_data_10000 = test(10000)\n",
    "s_s_data_100000 = test(100000)"
   ]
  },
  {
   "cell_type": "code",
   "execution_count": 225,
   "metadata": {},
   "outputs": [
    {
     "name": "stdout",
     "output_type": "stream",
     "text": [
      "Waktu Eksekusi Bubble Sort : 0.003116130828857422\n",
      "Waktu Eksekusi Bubble Sort : 0.161452054977417\n",
      "Waktu Eksekusi Bubble Sort : 15.345410108566284\n",
      "Waktu Eksekusi Bubble Sort : 1603.1756567955017\n"
     ]
    }
   ],
   "source": [
    "# Bubble Sort\n",
    "def test(n):\n",
    "    start_time = time.time()\n",
    "    def bubblesort(list):\n",
    "        for iter_num in range(len(list)-1,0,-1):\n",
    "            for idx in range(iter_num):\n",
    "                if list[idx]>list[idx+1]:\n",
    "                    temp = list[idx]\n",
    "                    list[idx] = list[idx+1]\n",
    "                    list[idx+1] = temp\n",
    "    rng = default_rng()\n",
    "    L = rng.choice(n, size=n, replace=False)\n",
    "    bubblesort(L)\n",
    "    time_execution = time.time() - start_time\n",
    "    print(f'Waktu Eksekusi Bubble Sort : {time_execution}')\n",
    "    return time_execution\n",
    "b_s_data_100 = test(100)\n",
    "b_s_data_1000 = test(1000)\n",
    "b_s_data_10000 = test(10000)\n",
    "b_s_data_100000 = test(100000)"
   ]
  },
  {
   "cell_type": "code",
   "execution_count": 226,
   "metadata": {},
   "outputs": [
    {
     "name": "stdout",
     "output_type": "stream",
     "text": [
      "Waktu Eksekusi Marge Sort : 0.012711048126220703\n",
      "Waktu Eksekusi Marge Sort : 0.0043888092041015625\n",
      "Waktu Eksekusi Marge Sort : 0.05118274688720703\n",
      "Waktu Eksekusi Marge Sort : 0.6259481906890869\n"
     ]
    }
   ],
   "source": [
    "# Marge Sort\n",
    "def test(n):\n",
    "    start_time = time.time()\n",
    "    def merge_sort(array):\n",
    "        if len(array) > 1:\n",
    "            r = len(array)//2\n",
    "            L = array[:r]\n",
    "            M = array[r:]\n",
    "            merge_sort(L)\n",
    "            merge_sort(M)\n",
    "            i = j = k = 0\n",
    "            while i < len(L) and j < len(M):\n",
    "                if L[i] < M[j]:\n",
    "                    array[k] = L[i]\n",
    "                    i += 1\n",
    "                else:\n",
    "                    array[k] = M[j]\n",
    "                    j += 1\n",
    "                k += 1\n",
    "            while i < len(L):\n",
    "                array[k] = L[i]\n",
    "                i += 1\n",
    "                k += 1\n",
    "\n",
    "            while j < len(M):\n",
    "                array[k] = M[j]\n",
    "                j += 1\n",
    "                k += 1\n",
    "    rng = default_rng()\n",
    "    L = rng.choice(n, size=n, replace=False)\n",
    "    merge_sort(L)\n",
    "    time_execution = time.time() - start_time\n",
    "    print(f'Waktu Eksekusi Marge Sort : {time_execution}')\n",
    "    return time_execution\n",
    "m_s_data_100 = test(100)\n",
    "m_s_data_1000 = test(1000)\n",
    "m_s_data_10000 = test(10000)\n",
    "m_s_data_100000 = test(100000)"
   ]
  },
  {
   "cell_type": "code",
   "execution_count": 227,
   "metadata": {},
   "outputs": [
    {
     "name": "stdout",
     "output_type": "stream",
     "text": [
      "Waktu Eksekusi Quick Sort : 0.0005252361297607422\n",
      "Waktu Eksekusi Quick Sort : 0.004023075103759766\n",
      "Waktu Eksekusi Quick Sort : 0.04350113868713379\n",
      "Waktu Eksekusi Quick Sort : 0.520104169845581\n"
     ]
    }
   ],
   "source": [
    "# Quick Sort\n",
    "def test(n):\n",
    "    start_time = time.time()\n",
    "    def partition(l, r, nums):\n",
    "        pivot, ptr = nums[r], l\n",
    "        for i in range(l, r):\n",
    "            if nums[i] <= pivot:\n",
    "                nums[i], nums[ptr] = nums[ptr], nums[i]\n",
    "                ptr += 1\n",
    "        nums[ptr], nums[r] = nums[r], nums[ptr]\n",
    "        return ptr\n",
    "    def quick_sort(l, r, nums):\n",
    "        if len(nums) == 1: \n",
    "            return nums\n",
    "        if l < r:\n",
    "            pi = partition(l, r, nums)\n",
    "            quick_sort(l, pi-1, nums)  \n",
    "            quick_sort(pi+1, r, nums)\n",
    "        return nums\n",
    "    rng = default_rng()\n",
    "    L = rng.choice(n, size=n, replace=False)\n",
    "    quick_sort(0, len(L)-1, L)\n",
    "    time_execution = time.time() - start_time\n",
    "    print(f'Waktu Eksekusi Quick Sort : {time_execution}')\n",
    "    return time_execution\n",
    "q_s_data_100 = test(100)\n",
    "q_s_data_1000 = test(1000)\n",
    "q_s_data_10000 = test(10000)\n",
    "q_s_data_100000 = test(100000)"
   ]
  },
  {
   "cell_type": "markdown",
   "metadata": {},
   "source": [
    "### 2.1 Grafik Perbandingan Waktu Eksekusi Algoritma"
   ]
  },
  {
   "cell_type": "code",
   "execution_count": 228,
   "metadata": {},
   "outputs": [
    {
     "data": {
      "image/png": "[encoded data removed]",
      "text/plain": [
       "<Figure size 720x432 with 1 Axes>"
      ]
     },
     "metadata": {
      "needs_background": "light"
     },
     "output_type": "display_data"
    }
   ],
   "source": [
    "x = [\"100\", \"1000\", \"10000\", \"100000\"]\n",
    "y1 = [i_s_data_100, i_s_data_1000, i_s_data_10000, i_s_data_100000]\n",
    "y2 = [s_s_data_100, s_s_data_1000, s_s_data_10000, s_s_data_100000]\n",
    "y3 = [b_s_data_100, b_s_data_1000, b_s_data_10000, b_s_data_100000]\n",
    "y4 = [m_s_data_100, m_s_data_1000, m_s_data_10000, m_s_data_100000]\n",
    "y5 = [q_s_data_100, q_s_data_1000, q_s_data_10000, q_s_data_100000]\n",
    "\n",
    "fig = plt.figure(figsize=(10,6))\n",
    "ax = fig.add_subplot(111)\n",
    "plt.plot(x,y, 'bo', linestyle = 'solid', color=\"blue\")\n",
    "plt.plot(x,y1, 'bo', linestyle = 'solid', color=\"red\")\n",
    "plt.plot(x,y2, 'bo', linestyle = 'solid', color=\"green\")\n",
    "plt.plot(x,y3, 'bo', linestyle = 'solid', color=\"yellow\")\n",
    "plt.plot(x,y4, 'bo', linestyle = 'solid', color=\"maroon\")\n",
    "plt.xlabel('Jumlah Data')\n",
    "plt.ylabel('Time Execution (Seconds)')\n",
    "plt.title('Perbandingan Time Execution Terhadap Data yang Berbeda')\n",
    "for i, v in enumerate(y):\n",
    "        ax.annotate(\"\", xy=(i,v), xytext=(-7,7), fontsize=12, textcoords='offset points')\n",
    "plt.show()"
   ]
  }
 ],
 "metadata": {
  "kernelspec": {
   "display_name": "Python 3.8.8 ('base')",
   "language": "python",
   "name": "python3"
  },
  "language_info": {
   "codemirror_mode": {
    "name": "ipython",
    "version": 3
   },
   "file_extension": ".py",
   "mimetype": "text/x-python",
   "name": "python",
   "nbconvert_exporter": "python",
   "pygments_lexer": "ipython3",
   "version": "3.8.8"
  },
  "orig_nbformat": 4,
  "vscode": {
   "interpreter": {
    "hash": "c786f3be194d1ec80ffe22584429d0314b0c1a366e2692ebddea8cd2108aab23"
   }
  }
 },
 "nbformat": 4,
 "nbformat_minor": 2
}
